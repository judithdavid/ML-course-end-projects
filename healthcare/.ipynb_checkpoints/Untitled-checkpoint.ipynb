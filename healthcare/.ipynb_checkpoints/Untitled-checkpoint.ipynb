{
 "cells": [
  {
   "cell_type": "code",
   "execution_count": null,
   "id": "fba9463b",
   "metadata": {},
   "outputs": [],
   "source": [
    "# Columns are categorical, check for unique values of each column\n",
    "\n",
    "for i in data.columns:\n",
    "    print(data[i].unique(),\"\\t\",data[i].nunique())\n",
    "    "
   ]
  },
  {
   "cell_type": "code",
   "execution_count": null,
   "id": "ea69cb2b",
   "metadata": {},
   "outputs": [],
   "source": [
    "#feature  Distribution\n",
    "sns.countplot(data['feature'])"
   ]
  },
  {
   "cell_type": "code",
   "execution_count": null,
   "id": "3506a48b",
   "metadata": {},
   "outputs": [],
   "source": [
    "# to find normal distribution\n",
    "\n",
    "from scipy.stats import norm\n",
    "sns.set_style('whitegrid')\n",
    "plt.figure(figsize = (10,8))\n",
    "sns.distplot(df['target'], fit = norm, color = 'crimson')"
   ]
  },
  {
   "cell_type": "code",
   "execution_count": null,
   "id": "75aed8f6",
   "metadata": {},
   "outputs": [],
   "source": [
    "# to find normal distribution - prob plot\n",
    "\n",
    "from scipy import stats\n",
    "sns.set_style('whitegrid')\n",
    "fig = plt.figure()\n",
    "res = stats.probplot(df['target'], plot = plt)"
   ]
  },
  {
   "cell_type": "code",
   "execution_count": null,
   "id": "9f39d2b0",
   "metadata": {},
   "outputs": [],
   "source": [
    "# count plot\n",
    "plt.figure(figsize=(15,12))\n",
    "sns.countplot(data=df,y='City')\n",
    "plt.title(\"City Wise Total Complain\")\n",
    "plt.show()"
   ]
  },
  {
   "cell_type": "code",
   "execution_count": 1,
   "id": "a4d4a695",
   "metadata": {
    "collapsed": true
   },
   "outputs": [
    {
     "ename": "NameError",
     "evalue": "name 'plt' is not defined",
     "output_type": "error",
     "traceback": [
      "\u001b[1;31m---------------------------------------------------------------------------\u001b[0m",
      "\u001b[1;31mNameError\u001b[0m                                 Traceback (most recent call last)",
      "Cell \u001b[1;32mIn[1], line 2\u001b[0m\n\u001b[0;32m      1\u001b[0m \u001b[38;5;66;03m#scatter plot\u001b[39;00m\n\u001b[1;32m----> 2\u001b[0m \u001b[43mplt\u001b[49m\u001b[38;5;241m.\u001b[39mfigure(figsize\u001b[38;5;241m=\u001b[39m(\u001b[38;5;241m10\u001b[39m,\u001b[38;5;241m7\u001b[39m))\n\u001b[0;32m      3\u001b[0m sns\u001b[38;5;241m.\u001b[39mscatterplot(data\u001b[38;5;241m=\u001b[39mdf,x\u001b[38;5;241m=\u001b[39m\u001b[38;5;124m'\u001b[39m\u001b[38;5;124mtotal_bill\u001b[39m\u001b[38;5;124m'\u001b[39m,y\u001b[38;5;241m=\u001b[39m\u001b[38;5;124m'\u001b[39m\u001b[38;5;124mtip\u001b[39m\u001b[38;5;124m'\u001b[39m)\n\u001b[0;32m      4\u001b[0m plt\u001b[38;5;241m.\u001b[39mshow()\n",
      "\u001b[1;31mNameError\u001b[0m: name 'plt' is not defined"
     ]
    }
   ],
   "source": [
    "#scatter plot\n",
    "plt.figure(figsize=(10,7))\n",
    "sns.scatterplot(data=df,x='total_bill',y='tip')\n",
    "plt.show()\n",
    "\n",
    "# ex2\n",
    "plt.figure(figsize=(11,4))\n",
    "sns.scatterplot(data=df,x='thalach',y='target',hue='target')\n",
    "plt.show()"
   ]
  },
  {
   "cell_type": "code",
   "execution_count": null,
   "id": "37cab8dd",
   "metadata": {},
   "outputs": [],
   "source": [
    "#plot()\n",
    "df[['age','target']].plot(kind='hexbin',x='target',y='age',figsize=(10,8))"
   ]
  }
 ],
 "metadata": {
  "kernelspec": {
   "display_name": "Python 3 (ipykernel)",
   "language": "python",
   "name": "python3"
  },
  "language_info": {
   "codemirror_mode": {
    "name": "ipython",
    "version": 3
   },
   "file_extension": ".py",
   "mimetype": "text/x-python",
   "name": "python",
   "nbconvert_exporter": "python",
   "pygments_lexer": "ipython3",
   "version": "3.10.9"
  }
 },
 "nbformat": 4,
 "nbformat_minor": 5
}
